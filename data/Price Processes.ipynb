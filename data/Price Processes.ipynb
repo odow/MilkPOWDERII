{
 "cells": [
  {
   "cell_type": "code",
   "execution_count": 45,
   "metadata": {},
   "outputs": [
    {
     "data": {
      "text/plain": [
       "getdata (generic function with 3 methods)"
      ]
     },
     "execution_count": 45,
     "metadata": {},
     "output_type": "execute_result"
    }
   ],
   "source": [
    "# Lets load some helpful packages\n",
    "#  For dealing with tabular data\n",
    "using DataFrames, DataFramesMeta, CSV\n",
    "#  Interacting with the web\n",
    "using JSON, Requests\n",
    "#  and doing some proper statistics\n",
    "using Distributions, GLM, StatsBase\n",
    "\n",
    "# We're also going to create some helper functions to simplify the path structure\n",
    "function getdata(s, datekey=nothing, datestr=\"yyyy-mm-dd\")\n",
    "    df = CSV.read(s)\n",
    "end"
   ]
  },
  {
   "cell_type": "code",
   "execution_count": 109,
   "metadata": {},
   "outputs": [
    {
     "data": {
      "text/plain": [
       "get_imputed_gdt"
      ]
     },
     "execution_count": 109,
     "metadata": {},
     "output_type": "execute_result"
    }
   ],
   "source": [
    "\"\"\"\n",
    "    This function imputes missing auction values for the reference commodity products. \n",
    "\n",
    "    Values may be missing for a number of reasons including if the initial offer quanity is\n",
    "    under-subscribed.\n",
    "\"\"\"\n",
    "function get_imputed_gdt()\n",
    "    gdt = CSV.read(\"gdt_auctions.csv\") # getdata(\"gdt_auctions.csv\", :Date, \"dd/mm/yyyy\")\n",
    "\n",
    "    # Impute BMP\n",
    "    rename!(gdt, :BMP => :BMPold)\n",
    "    bmp_train = @where(gdt, :BMPold .!= \"n.a.\")\n",
    "    bmp_train[:BMPold] = map(s->parse(Float64, s), bmp_train[:BMPold])\n",
    "    bmp_model = fit(LinearModel, @formula(BMPold~AMF+SMP+WMP), bmp_train)\n",
    "    bmp_test = @where(gdt, :BMPold .== \"n.a.\")\n",
    "    gdt[:BMP] = 0.0\n",
    "    gdt[:BMP][gdt[:BMPold] .== \"n.a.\"] = predict(bmp_model, bmp_test)\n",
    "    gdt[:BMP][gdt[:BMPold] .!= \"n.a.\"] = map(i->parse(Float64, i), gdt[:BMPold][gdt[:BMPold] .!= \"n.a.\"])\n",
    "\n",
    "    # Impute BUT\n",
    "    rename!(gdt, :BUT => :BUTold)\n",
    "    but_train = @where(gdt, :BUTold .!= \"n.a.\")\n",
    "    but_train[:BUTold] = Float64[parse(Float64, s) for s in but_train[:BUTold]]\n",
    "    but_model = fit(LinearModel, @formula(BUTold~AMF+SMP+WMP), but_train)\n",
    "    but_test = @where(gdt, :BUTold .== \"n.a.\")\n",
    "    gdt[:BUT] = 0.0\n",
    "    gdt[:BUT][gdt[:BUTold] .== \"n.a.\"] = predict(but_model, but_test)\n",
    "    gdt[:BUT][gdt[:BUTold] .!= \"n.a.\"] = map(i->parse(Float64, i), gdt[:BUTold][gdt[:BUTold] .!= \"n.a.\"])\n",
    "    \n",
    "    delete!(gdt, :BUTold)\n",
    "    delete!(gdt, :BMPold)\n",
    "    \n",
    "    gdt[:Date] = Date[Dates.Date(d, \"dd/mm/yyyy\") for d in gdt[:Date]]\n",
    "    gdt\n",
    "end"
   ]
  },
  {
   "cell_type": "code",
   "execution_count": 97,
   "metadata": {},
   "outputs": [
    {
     "data": {
      "text/plain": [
       "get_product_mix"
      ]
     },
     "execution_count": 97,
     "metadata": {},
     "output_type": "execute_result"
    }
   ],
   "source": [
    "\"\"\"\n",
    "    Calculate the product mix of RCP in Fonterra's basket.\n",
    "\"\"\"\n",
    "function get_product_mix()\n",
    "    qprod =  CSV.read(\"fonterra_production.csv\")\n",
    "\n",
    "    for key in [:WMP, :SMP, :BUT, :AMF, :BMP]\n",
    "        qprod[Symbol(\"$(key)p\")] = qprod[key] ./ qprod[:Supply]\n",
    "    end\n",
    "\n",
    "    periods = [\"Jun-Aug\", \"Sep-Nov\", \"Dec-Feb\", \"Mar-May\"]\n",
    "    qprod[:sPeriod] = \"\"\n",
    "    @byrow! qprod :sPeriod = periods[:Period]\n",
    "    qprod[:SeasonPeriod] = map((s,p)->string(s, \" \",p), qprod[:Season], qprod[:sPeriod])\n",
    "    qprod = @select(qprod, :Season, :sPeriod, :SeasonPeriod, :WMPp, :SMPp, :BUTp, :AMFp, :BMPp)\n",
    "    names!(qprod, [:Season, :sPeriod, :SeasonPeriod, :WMP, :SMP, :BUT, :AMF, :BMP])\n",
    "\n",
    "    production_data = melt(qprod, [:Season, :sPeriod, :SeasonPeriod])\n",
    "    product_lambda = by(production_data, [:variable, :sPeriod]) do _df\n",
    "            mean(_df[:value]) \n",
    "        end\n",
    "    names!(product_lambda, [:product, :period, :weight])\n",
    "    product_lambda\n",
    "    product_mix = join(DataFrame(\n",
    "        period = [\"Jun-Aug\", \"Jun-Aug\", \"Jun-Aug\", \"Sep-Nov\", \"Sep-Nov\", \"Sep-Nov\", \"Dec-Feb\", \"Dec-Feb\", \"Dec-Feb\", \"Mar-May\", \"Mar-May\", \"Mar-May\"],\n",
    "        month  = 1:12\n",
    "    ), product_lambda, on=[:period])\n",
    "    delete!(product_mix, :period)\n",
    "    product_mix\n",
    "end"
   ]
  },
  {
   "cell_type": "code",
   "execution_count": 119,
   "metadata": {},
   "outputs": [
    {
     "data": {
      "text/plain": [
       "getspotprice"
      ]
     },
     "execution_count": 119,
     "metadata": {},
     "output_type": "execute_result"
    }
   ],
   "source": [
    "\"\"\"\n",
    "    Calculate the product-mix weighted spot price in each Trading period\n",
    "\"\"\"\n",
    "function getspotprice()\n",
    "    gdt = get_imputed_gdt()\n",
    "    gdt[:month] = Dates.month.(gdt[:Date])\n",
    "    product_mix = get_product_mix()\n",
    "\n",
    "    tmp_gdt = join(gdt, unstack(product_mix, :product, :weight), on=[:month], makeunique=true)\n",
    "    tmp_gdt[:spot] = 0.0\n",
    "    for product in [:AMF, :SMP, :WMP, :BMP, :BUT]\n",
    "       tmp_gdt[:spot] += tmp_gdt[product] .* tmp_gdt[Symbol(product, :_1)] \n",
    "    end\n",
    "    sort!(tmp_gdt, cols=:Date)\n",
    "    tmp_gdt[:, [:Date, :TE, :spot]]\n",
    "end"
   ]
  },
  {
   "cell_type": "code",
   "execution_count": 120,
   "metadata": {},
   "outputs": [
    {
     "data": {
      "text/plain": [
       "493"
      ]
     },
     "execution_count": 120,
     "metadata": {},
     "output_type": "execute_result"
    }
   ],
   "source": [
    "function get_sales_curve()\n",
    "    d = Dates.Date(2018,8,7)\n",
    "    auction_weeks = Int[]\n",
    "    auction_dates = Date[]\n",
    "    current_month = 7\n",
    "    number_of_auctions = 0\n",
    "    weeks_since_auction = 0\n",
    "    for t in 1:52\n",
    "        if Dates.month(d) == current_month\n",
    "            if number_of_auctions < 2 && weeks_since_auction >= 1\n",
    "                # second auction\n",
    "                push!(auction_weeks, t)\n",
    "                push!(auction_dates, d)\n",
    "                number_of_auctions += 1\n",
    "            else\n",
    "                weeks_since_auction += 1\n",
    "            end\n",
    "        else\n",
    "            # first auction of month\n",
    "            current_month = Dates.month(d)\n",
    "            number_of_auctions = 1\n",
    "            weeks_since_auction = 0\n",
    "            push!(auction_weeks, t)\n",
    "            push!(auction_dates, d)\n",
    "        end\n",
    "        d += Dates.Week(1)\n",
    "    end\n",
    "    open(\"auction_weeks.json\", \"w\") do io\n",
    "        write(io, JSON.json(auction_weeks))\n",
    "    end\n",
    "\n",
    "    df =  CSV.read(\"fonterra_contracts.csv\")\n",
    "    # rename some columns\n",
    "    names!(df, [:Month, Symbol(\"2011/12\"), Symbol(\"2012/13\"), Symbol(\"2013/14\"), Symbol(\"2014/15\"), Symbol(\"2015/16\")])\n",
    "\n",
    "    # go from cumulative to proportional\n",
    "    for i=reverse(2:size(df, 1))\n",
    "        for j in 2:size(df, 2)\n",
    "            df[i, j] = df[i, j] - df[i-1, j]\n",
    "        end\n",
    "    end\n",
    "\n",
    "    df = melt(df, :Month)\n",
    "    df = join(df, by(df, :variable) do _df\n",
    "        sum(_df[:value])\n",
    "        end, on=[:variable])\n",
    "    df[:Proportion] = df[:value] ./ df[:x1]\n",
    "    sales_data = @select(df, :Month, :Proportion, :variable)\n",
    "    rename!(sales_data, :variable => :Season)\n",
    "    unique_months = unique(sales_data[:Month])\n",
    "    sales_curve = map(m->round(mean(@where(sales_data, :Month.==m)[:Proportion]), 5), unique_months)[3:end]\n",
    "    sales_curve ./= sum(sales_curve)\n",
    "    repeat(sales_curve, inner=2) / 2\n",
    "#     sales_curve\n",
    "end\n",
    "\n",
    "open(\"sales_curve.json\", \"w\") do io\n",
    "    write(io, JSON.json(get_sales_curve()))\n",
    "end\n",
    "# get_sales_curve()"
   ]
  },
  {
   "cell_type": "code",
   "execution_count": 121,
   "metadata": {},
   "outputs": [
    {
     "name": "stderr",
     "output_type": "stream",
     "text": [
      "\u001b[1m\u001b[33mWARNING: \u001b[39m\u001b[22m\u001b[33mUnused font arg: 3.5277777777777777mm (Measures.Length{:mm,Float64})\u001b[39m\n",
      "\u001b[1m\u001b[33mWARNING: \u001b[39m\u001b[22m\u001b[33mUnused font arg: 4.2333333333333325mm (Measures.Length{:mm,Float64})\u001b[39m\n"
     ]
    },
    {
     "data": {
      "text/plain": [
       "Plots.GRBackend()"
      ]
     },
     "execution_count": 121,
     "metadata": {},
     "output_type": "execute_result"
    }
   ],
   "source": [
    "using JSON, DataFrames\n",
    "using Plots, StatPlots\n",
    "const mm = Plots.mm\n",
    "const pt = Plots.pt\n",
    "fntsm = Plots.font(\"times\", 10.0pt)\n",
    "fntlg = Plots.font(\"times\", 12.0pt)\n",
    "default(titlefont=fntlg, guidefont=fntlg, tickfont=fntsm, legendfont=fntsm,left_margin=10mm,bottom_margin=7.5mm)\n",
    "default(size=(800,600),top_margin=0mm, right_margin=0mm)\n",
    "gr()"
   ]
  },
  {
   "cell_type": "code",
   "execution_count": 122,
   "metadata": {},
   "outputs": [
    {
     "name": "stdout",
     "output_type": "stream",
     "text": [
      "r = 169\n",
      "E[x] = 0.004784688995215312\n"
     ]
    }
   ],
   "source": [
    "function generatemodel1()\n",
    "    forecasts =  CSV.read(\"fonterra_forecasts.csv\")\n",
    "    changes = by(forecasts, :Season) do d\n",
    "        DataFrame(\n",
    "            change = d[:Forecast][2:end] - d[:Forecast][1:end-1],\n",
    "            Date   = d[:Date][2:end],\n",
    "        ) \n",
    "    end\n",
    "    changes[:week] = clamp.(round.(Int, Dates.value.(changes[:Date] - Dates.Date.(changes[:Season], 6, 1)) / 7), 1, 52)\n",
    "\n",
    "    dist = Vector{Float64}[]\n",
    "    for wk in 1:52\n",
    "        push!(dist, Float64[])\n",
    "        tmp = changes[changes[:week] .== wk, :]\n",
    "        for chg in tmp[:change]\n",
    "            push!(dist[wk], chg)\n",
    "        end\n",
    "        for i in length(dist[wk])+1:8\n",
    "            push!(dist[wk], 0.0)\n",
    "        end\n",
    "    end\n",
    "    dist\n",
    "    function simulate(dist)\n",
    "        y = zeros(52)\n",
    "        for i in 2:52\n",
    "            y[i] = y[i-1] + rand(dist[i])\n",
    "        end\n",
    "        y\n",
    "    end\n",
    "    plotsimulation!(dist; color=\"gray\", alpha=0.5, w=1) = plot!(1:52, 6+simulate(dist),c=color,alpha=alpha, w=w)\n",
    "    r = rand(1:1000)\n",
    "    @show r\n",
    "    srand(845)\n",
    "    plot()\n",
    "    for i in 1:50\n",
    "        plotsimulation!(dist, color=\"#00467F\",alpha=0.35)\n",
    "    end\n",
    "    plotsimulation!(dist, color=\"red\", alpha=1, w=2)\n",
    "    plot!(title=\"(b)\")\n",
    "    xticks = collect(1:8.66:52)\n",
    "    xticklabels = [\"Aug\", \"Oct\", \"Dec\", \"Feb\", \"Apr\", \"Jun\"]\n",
    "    plot!(xlims=(1,52), xticks=(xticks, xticklabels), xlabel=\"\")#\"Week of Year\\n\")\n",
    "    plt1 = plot!(ylabel=\"Forecast Milk Price\\n(\\$/kg)\",legend=false, ylims=(3, 9))\n",
    "\n",
    "    plot()\n",
    "    forecasts = getdata(\"fonterra_forecasts.csv\", :Date)\n",
    "    @df forecasts plot!(:Date, :Forecast, group=:Season, linetype=:step, w=2, c=\"#00467F\",alpha=0.75)\n",
    "    plot!(ylabel=\"Forecast Milk Price\\n(\\$/kg)\", ylims=(3, 9), xlabel=\"\")\n",
    "    function annotateplot!(date, value)\n",
    "        x = Int(Dates.value(date))\n",
    "        yr = Dates.value(Dates.Year(date))\n",
    "        annotate!([(x, value-0.35, text(\"\\$$(rpad(value, 4, \"0\"))\", \"red\",10))])\n",
    "        scatter!([date], [value],c=\"red\",markerstrokewidth=0)\n",
    "    end\n",
    "    by(forecasts, :Season) do d\n",
    "        annotateplot!(d[:Date][end], d[:Forecast][end])\n",
    "    end\n",
    "    plot!(title=\"(a)\", xticks=(Dates.Date.(2010:2:2017, 1,1), 2010:2:2017))\n",
    "    plt2 = plot!(legend=false)\n",
    "    plt3 = plot(plt2, plt1, layout=(1,2), size=(1000,300))\n",
    "    savefig(\"modeloneprices.pdf\")\n",
    "    println(\"E[x] = $(mean(vcat(dist...)))\")\n",
    "    \n",
    "    function discretedistribution(x)\n",
    "        observations = unique(x) \n",
    "        probabilities = [sum(x .== o) / length(x) for o in observations]\n",
    "        observations, probabilities\n",
    "    end\n",
    "    open(\"model_one_observations.json\", \"w\") do io\n",
    "        write(io, JSON.json([round.(discretedistribution(d)[1], 2) for d in dist]))\n",
    "    end\n",
    "    open(\"model_one_probabilities.json\", \"w\") do io\n",
    "        write(io, JSON.json([discretedistribution(d)[2] for d in dist]))\n",
    "    end\n",
    "    open(\"model_one_futures.json\", \"w\") do io\n",
    "        μ = mean.(dist)\n",
    "        write(io, JSON.json([sum(μ[i:end]) for i in 2:52]))\n",
    "    end\n",
    "    \n",
    "    () -> 6.0 + simulate(dist), dist\n",
    "end\n",
    "model1, dist = generatemodel1();"
   ]
  },
  {
   "cell_type": "code",
   "execution_count": 137,
   "metadata": {},
   "outputs": [
    {
     "name": "stdout",
     "output_type": "stream",
     "text": [
      "mean(spot[:nzd]) = 6.310726263001805\n",
      "StatsModels.DataFrameRegressionModel{GLM.LinearModel{GLM.LmResp{Array{Float64,1}},GLM.DensePredChol{Float64,Base.LinAlg.Cholesky{Float64,Array{Float64,2}}}},Array{Float64,2}}\n",
      "\n",
      "Formula: y ~ 1 + x1\n",
      "\n",
      "Coefficients:\n",
      "             Estimate Std.Error t value Pr(>|t|)\n",
      "(Intercept)  0.142664  0.109892 1.29822   0.1959\n",
      "x1            0.97658 0.0165368 59.0551   <1e-99\n",
      "\n",
      "seed = 711\n"
     ]
    }
   ],
   "source": [
    "function generatemodel2()\n",
    "    spot = getspotprice()\n",
    "#     spot[:Month] = Dates.value.(Dates.Month.(spot[:Date]))\n",
    "#     spot[:Year] = Dates.value.(Dates.Year.(spot[:Date]))\n",
    "#     spot = by(spot, [:Year, :Month]) do io\n",
    "#         DataFrame(\n",
    "#             Date = Dates.Date(io[:Year][1], io[:Month][1], 1),\n",
    "#             spot=mean(io[:spot])\n",
    "#         )\n",
    "#     end\n",
    "    spot[:nzd] = spot[:spot] ./ 0.75 / 1000 - 2.10\n",
    "    @show mean(spot[:nzd])\n",
    "    model = fit(LinearModel, @formula(y~x1), DataFrame(\n",
    "                    y  = (spot[:nzd][3:end]),\n",
    "                    x1 = (spot[:nzd][2:end-1]),\n",
    "                )\n",
    "            )\n",
    "    println(model)\n",
    "    open(\"model_two_errors.json\", \"w\") do io\n",
    "        N = 5\n",
    "        resid = GLM.residuals(model)\n",
    "        sort!(resid)\n",
    "        nperblock = length(resid) / N\n",
    "        q = [mean(resid[round(Int, nperblock * (i-1) + 1):round(Int,nperblock * i)]) for i in 1:N]\n",
    "        q -= mean(q)\n",
    "        write(io, JSON.json(q))\n",
    "    end\n",
    "    \n",
    "    function estimate(model, x, idx)\n",
    "        λ, μ = 0.97, 6.3\n",
    "        λ * x[idx] + (1-λ) * μ\n",
    "    end\n",
    "\n",
    "    function simulate!(spot, x0, model, N, resid, islog=true)\n",
    "        zz = zeros(N)    \n",
    "        if islog\n",
    "            zz[1:length(x0)] .= log.(x0)\n",
    "        else\n",
    "            zz[1:length(x0)] .= x0\n",
    "        end\n",
    "        for i in (length(x0)+1):N\n",
    "            zz[i] = estimate(model, zz, i-1) + rand(resid)#GLM.residuals(model))\n",
    "        end\n",
    "        if islog\n",
    "            zz .= exp.(zz)\n",
    "        end\n",
    "        \n",
    "        zz\n",
    "    end\n",
    "    function plottrace!(spot, x0, model, N, resid, islog=true)\n",
    "        zz = simulate!(spot, x0, model, N, resid, islog)\n",
    "        plot!(spot[:Date], zz, linealpha=0.2, color=\"gray\")\n",
    "        zz\n",
    "    end\n",
    "\n",
    "    plot()\n",
    "    @df spot plot!(:Date, :nzd, legend=false, linetype=:step, w=2, color=\"#00467F\")\n",
    "    plot!(ylims=(0, 12), xlabel=\"\", ylabel=\"Spot Price\\n(\\$/kg)\")\n",
    "    hline!([mean(spot[:nzd])], linestyle=:dash, w=2, color=\"#e65100\")\n",
    "    plot!(xticks=([Dates.Date(y,1,1) for y in 2011:2:2018],[\"Jan-$(y-2000)\" for y in 2011:2:2018]))\n",
    "\n",
    "    seed = rand(1:1000)\n",
    "    @show seed\n",
    "    srand(seed)\n",
    "    srand(803)\n",
    "    resid = JSON.parsefile(\"model_two_errors.json\")\n",
    "    for i in 1:100\n",
    "        plottrace!(spot, [6.3], model, size(spot, 1), resid, false)\n",
    "    end\n",
    "    zz = plottrace!(spot, [6.3], model, size(spot, 1), resid, false)\n",
    "    plot!(spot[:Date], zz, linealpha=1, color=\"red\", linetype=:step)\n",
    "    plt = plot!(legend=false, ylims=(0, 12), size=(500,300), title=\"(a)\")\n",
    "    \n",
    "    w = JSON.parsefile(\"sales_curve.json\")\n",
    "    plt2 = bar(1:24, w, legend=false, w=0, color=\"#00467F\")\n",
    "    plot!(title=\"(b)\", ylabel=\"Sales Curve\\n(Fraction)\")\n",
    "    xticks = (1:4:24)# + 0.5\n",
    "    xticklabels = [\"Aug\", \"Oct\", \"Dec\", \"Feb\", \"Apr\", \"Jun\"]\n",
    "    plot!(xticks=(xticks, xticklabels), xlabel=\"\")\n",
    "    plot(plt, plt2, layout=(1,2), size=(1000, 300))\n",
    "    savefig(\"spotprice.pdf\")\n",
    "    ()-> simulate!(spot, [6.0], model, 52, false)\n",
    "end\n",
    "model2 = generatemodel2();"
   ]
  },
  {
   "cell_type": "code",
   "execution_count": 143,
   "metadata": {},
   "outputs": [
    {
     "data": {
      "text/plain": [
       "6.0915456874466285"
      ]
     },
     "execution_count": 143,
     "metadata": {},
     "output_type": "execute_result"
    }
   ],
   "source": [
    "# λ × x + β = λ × x + (1 - λ) × μ\n",
    "# ⟹ β = (1 - λ) × μ\n",
    "# ⟹ μ = β / (1 - λ)\n",
    "λ = 0.97658\n",
    "β = 0.142664\n",
    "μ = β / (1 - λ)"
   ]
  }
 ],
 "metadata": {
  "kernelspec": {
   "display_name": "Julia 0.6.2",
   "language": "julia",
   "name": "julia-0.6"
  },
  "language_info": {
   "file_extension": ".jl",
   "mimetype": "application/julia",
   "name": "julia",
   "version": "0.6.2"
  }
 },
 "nbformat": 4,
 "nbformat_minor": 2
}
