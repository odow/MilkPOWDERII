{
 "cells": [
  {
   "cell_type": "code",
   "execution_count": 2,
   "metadata": {},
   "outputs": [
    {
     "data": {
      "text/plain": [
       "getdata (generic function with 3 methods)"
      ]
     },
     "execution_count": 2,
     "metadata": {},
     "output_type": "execute_result"
    }
   ],
   "source": [
    "# Lets load some helpful packages\n",
    "#  For dealing with tabular data\n",
    "using DataFrames, DataFramesMeta\n",
    "#  Interacting with the web\n",
    "using JSON, Requests\n",
    "#  and doing some proper statistics\n",
    "using Distributions, GLM, StatsBase\n",
    "\n",
    "# We're also going to create some helper functions to simplify the path structure\n",
    "function getdata(s, datekey=nothing, datestr=\"yyyy-mm-dd\")\n",
    "    df = readtable(s)\n",
    "    if !(datekey == nothing)\n",
    "        df[datekey] = convert(DataArray{Date, 1}, map(d->Dates.Date(d, datestr), df[datekey]))\n",
    "    end\n",
    "    df\n",
    "end"
   ]
  },
  {
   "cell_type": "code",
   "execution_count": 3,
   "metadata": {},
   "outputs": [
    {
     "data": {
      "text/plain": [
       "get_imputed_gdt"
      ]
     },
     "execution_count": 3,
     "metadata": {},
     "output_type": "execute_result"
    }
   ],
   "source": [
    "\"\"\"\n",
    "    This function imputes missing auction values for the reference commodity products. \n",
    "\n",
    "    Values may be missing for a number of reasons including if the initial offer quanity is\n",
    "    under-subscribed.\n",
    "\"\"\"\n",
    "function get_imputed_gdt()\n",
    "    gdt = getdata(\"gdt_auctions.csv\", :Date, \"dd/mm/yyyy\")\n",
    "\n",
    "    # Impute BMP\n",
    "    rename!(gdt, :BMP, :BMPold)\n",
    "    bmp_train = @where(gdt, :BMPold .!= \"n.a.\")\n",
    "    bmp_train[:BMPold] = convert(DataArray{Float64}, map(s->parse(Float64, s), bmp_train[:BMPold]))\n",
    "    bmp_model = fit(LinearModel, @formula(BMPold~AMF+SMP+WMP), bmp_train)\n",
    "#     bmp_model = fit(LinearModel, BMPold~AMF+SMP+WMP, bmp_train)\n",
    "    \n",
    "    bmp_test = @where(gdt, :BMPold .== \"n.a.\")\n",
    "    gdt[:BMP] = 0.\n",
    "    gdt[:BMP][gdt[:BMPold] .== \"n.a.\"] = predict(bmp_model, bmp_test)\n",
    "    gdt[:BMP][gdt[:BMPold] .!= \"n.a.\"] = map(i->parse(Float64, i), gdt[:BMPold][gdt[:BMPold] .!= \"n.a.\"])\n",
    "\n",
    "    # Impute BUT\n",
    "    rename!(gdt, :BUT, :BUTold)\n",
    "    but_train = @where(gdt, :BUTold .!= \"n.a.\")\n",
    "    but_train[:BUTold] = convert(DataArray{Float64}, map(s->parse(Float64, s), but_train[:BUTold]))\n",
    "    but_model = fit(LinearModel, @formula(BUTold~AMF+SMP+WMP), but_train)\n",
    "#     but_model = fit(LinearModel, BUTold~AMF+SMP+WMP, but_train)\n",
    "    but_test = @where(gdt, :BUTold .== \"n.a.\")\n",
    "    gdt[:BUT] = 0.\n",
    "    gdt[:BUT][gdt[:BUTold] .== \"n.a.\"] = predict(but_model, but_test)\n",
    "    gdt[:BUT][gdt[:BUTold] .!= \"n.a.\"] = map(i->parse(Float64, i), gdt[:BUTold][gdt[:BUTold] .!= \"n.a.\"])\n",
    "    delete!(gdt, :BUTold)\n",
    "    delete!(gdt, :BMPold)\n",
    "    gdt\n",
    "end"
   ]
  },
  {
   "cell_type": "code",
   "execution_count": 4,
   "metadata": {},
   "outputs": [
    {
     "data": {
      "text/plain": [
       "get_product_mix"
      ]
     },
     "execution_count": 4,
     "metadata": {},
     "output_type": "execute_result"
    }
   ],
   "source": [
    "\"\"\"\n",
    "    Calculate the product mix of RCP in Fonterra's basket.\n",
    "\"\"\"\n",
    "function get_product_mix()\n",
    "    qprod = getdata(\"fonterra_production.csv\")\n",
    "\n",
    "    for key in [:WMP, :SMP, :BUT, :AMF, :BMP]\n",
    "        qprod[Symbol(\"$(key)p\")] = qprod[key] ./ qprod[:Supply]\n",
    "    end\n",
    "\n",
    "    periods = [\"Jun-Aug\", \"Sep-Nov\", \"Dec-Feb\", \"Mar-May\"]\n",
    "    qprod[:sPeriod] = \"\"\n",
    "    @byrow! qprod :sPeriod = periods[:Period]\n",
    "    qprod[:SeasonPeriod] = map((s,p)->string(s, \" \",p), qprod[:Season], qprod[:sPeriod])\n",
    "    qprod = @select(qprod, :Season, :sPeriod, :SeasonPeriod, :WMPp, :SMPp, :BUTp, :AMFp, :BMPp)\n",
    "    names!(qprod, [:Season, :sPeriod, :SeasonPeriod, :WMP, :SMP, :BUT, :AMF, :BMP])\n",
    "\n",
    "    production_data = melt(qprod, [:Season, :sPeriod, :SeasonPeriod])\n",
    "    product_lambda = by(production_data, [:variable, :sPeriod]) do _df\n",
    "            mean(_df[:value]) \n",
    "        end\n",
    "    names!(product_lambda, [:product, :period, :weight])\n",
    "    product_lambda\n",
    "    product_mix = join(DataFrame(\n",
    "        period = [\"Jun-Aug\", \"Jun-Aug\", \"Jun-Aug\", \"Sep-Nov\", \"Sep-Nov\", \"Sep-Nov\", \"Dec-Feb\", \"Dec-Feb\", \"Dec-Feb\", \"Mar-May\", \"Mar-May\", \"Mar-May\"],\n",
    "        month  = 1:12\n",
    "    ), product_lambda, on=[:period])\n",
    "    delete!(product_mix, :period)\n",
    "    product_mix\n",
    "end"
   ]
  },
  {
   "cell_type": "code",
   "execution_count": 5,
   "metadata": {},
   "outputs": [
    {
     "data": {
      "text/plain": [
       "getspotprice"
      ]
     },
     "execution_count": 5,
     "metadata": {},
     "output_type": "execute_result"
    }
   ],
   "source": [
    "\"\"\"\n",
    "    Calculate the product-mix weighted spot price in each Trading period\n",
    "\"\"\"\n",
    "function getspotprice()\n",
    "    gdt = get_imputed_gdt()\n",
    "    gdt[:month] = Dates.month.(gdt[:Date])\n",
    "    product_mix = get_product_mix()\n",
    "\n",
    "    tmp_gdt = join(gdt, unstack(product_mix, :product, :weight), on=[:month])\n",
    "    tmp_gdt[:spot] = 0.0\n",
    "    for product in [:AMF, :SMP, :WMP, :BMP, :BUT]\n",
    "       tmp_gdt[:spot] += tmp_gdt[product] .* tmp_gdt[Symbol(product, :_1)] \n",
    "    end\n",
    "    sort!(tmp_gdt, cols=:Date)\n",
    "    tmp_gdt[:, [:Date, :TE, :spot]]\n",
    "end"
   ]
  },
  {
   "cell_type": "code",
   "execution_count": 6,
   "metadata": {},
   "outputs": [
    {
     "data": {
      "text/plain": [
       "1.0000799999999999"
      ]
     },
     "execution_count": 6,
     "metadata": {},
     "output_type": "execute_result"
    }
   ],
   "source": [
    "function get_sales_curve()\n",
    "    df = getdata(\"fonterra_contracts.csv\")\n",
    "    # rename some columns\n",
    "    names!(df, [:Month, Symbol(\"2011/12\"), Symbol(\"2012/13\"), Symbol(\"2013/14\"), Symbol(\"2014/15\"), Symbol(\"2015/16\")])\n",
    "\n",
    "    # go from cumulative to proportional\n",
    "    for i=reverse(2:size(df, 1))\n",
    "        for j in 2:size(df, 2)\n",
    "            df[i, j] = df[i, j] - df[i-1, j]\n",
    "        end\n",
    "    end\n",
    "\n",
    "    df = melt(df, :Month)\n",
    "    df = join(df, by(df, :variable) do _df\n",
    "        sum(_df[:value])\n",
    "        end, on=[:variable])\n",
    "    df[:Proportion] = df[:value] ./ df[:x1]\n",
    "    sales_data = @select(df, :Month, :Proportion, :variable)\n",
    "    rename!(sales_data, :variable, :Season)\n",
    "    unique_months = unique(sales_data[:Month])\n",
    "    sales_curve = map(m->mean(@where(sales_data, :Month.==m)[:Proportion]), unique_months)[2:end]\n",
    "    sales_curve ./= sum(sales_curve)\n",
    "    sales_curve = repeat(sales_curve, inner=4) / 4\n",
    "    sales_curve .= round.(sales_curve, 5)\n",
    "end\n",
    "\n",
    "open(\"salescurve.json\", \"w\") do io\n",
    "    write(io, JSON.json(get_sales_curve()))\n",
    "end\n",
    "sum(get_sales_curve())"
   ]
  },
  {
   "cell_type": "code",
   "execution_count": 7,
   "metadata": {},
   "outputs": [
    {
     "data": {
      "text/plain": [
       "Plots.GRBackend()"
      ]
     },
     "execution_count": 7,
     "metadata": {},
     "output_type": "execute_result"
    }
   ],
   "source": [
    "using Plots, StatPlots\n",
    "const mm = Plots.mm\n",
    "const pt = Plots.pt\n",
    "fntsm = Plots.font(\"times\", 10.0pt)\n",
    "fntlg = Plots.font(\"times\", 12.0pt)\n",
    "default(titlefont=fntlg, guidefont=fntlg, tickfont=fntsm, legendfont=fntsm,left_margin=10mm,bottom_margin=7.5mm)\n",
    "default(size=(800,600),top_margin=0mm, right_margin=0mm)\n",
    "gr()"
   ]
  },
  {
   "cell_type": "code",
   "execution_count": 49,
   "metadata": {},
   "outputs": [
    {
     "name": "stdout",
     "output_type": "stream",
     "text": [
      "r = 21\n",
      "E[x] = 0.004784688995215312\n"
     ]
    },
    {
     "data": {
      "text/plain": [
       "(#185, Array{Float64,1}[[0.0, 0.0, 0.0, 0.0, 0.0, 0.0, 0.0, 0.0], [0.0, 0.0, 0.0, 0.0, 0.0, 0.0, 0.0, 0.0], [0.0, 0.0, 0.0, 0.0, 0.0, 0.0, 0.0, 0.0], [0.0, 0.0, 0.0, 0.0, 0.0, 0.0, 0.0, 0.0], [0.0, 0.0, 0.0, 0.0, 0.0, 0.0, 0.0, 0.0], [0.0, 0.0, 0.0, 0.0, 0.0, 0.0, 0.0, 0.0], [0.0, 0.0, 0.0, 0.0, 0.0, 0.0, 0.0, 0.0], [-0.1, -1.0, 0.0, 0.0, 0.0, 0.0, 0.0, 0.0], [0.5, 0.0, 0.0, 0.0, 0.0, 0.0, 0.0, 0.0], [-1.4, 0.0, 0.0, 0.0, 0.0, 0.0, 0.0, 0.0]  …  [0.3, 0.0, 0.0, 0.0, 0.0, 0.0, 0.0, 0.0], [0.0, 0.0, 0.0, 0.0, 0.0, 0.0, 0.0, 0.0], [0.0, 0.0, 0.0, 0.0, 0.0, 0.0, 0.0, 0.0], [0.0, 0.0, 0.0, 0.0, 0.0, 0.0, 0.0, 0.0], [0.4, 0.0, 0.0, 0.0, 0.0, 0.0, 0.0, 0.0], [-0.2, 0.0, 0.0, 0.0, 0.0, 0.0, 0.0, 0.0], [0.0, 0.0, 0.0, 0.0, 0.0, 0.0, 0.0, 0.0], [0.0, 0.0, 0.0, 0.0, 0.0, 0.0, 0.0, 0.0], [0.0, -0.3, 0.0, 0.15, 0.0, 0.0, 0.0, 0.0], [0.0, 0.1, 0.03, 0.0, 0.04, -0.25, 0.0, -0.1, 0.0, -0.02]])"
      ]
     },
     "execution_count": 49,
     "metadata": {},
     "output_type": "execute_result"
    }
   ],
   "source": [
    "function generatemodel1()\n",
    "    forecasts = getdata(\"fonterra_forecasts.csv\", :Date)\n",
    "    changes = by(forecasts, :Season) do d\n",
    "        DataFrame(\n",
    "            change = d[:Forecast][2:end] - d[:Forecast][1:end-1],\n",
    "            Date   = d[:Date][2:end],\n",
    "        ) \n",
    "    end\n",
    "    changes[:week] = clamp.(round.(Int, Dates.value.(changes[:Date] - Dates.Date.(changes[:Season], 6, 1)) / 7), 1, 52)\n",
    "\n",
    "    dist = Vector{Float64}[]\n",
    "    for wk in 1:52\n",
    "        push!(dist, Float64[])\n",
    "        tmp = changes[changes[:week] .== wk, :]\n",
    "        for chg in tmp[:change]\n",
    "            push!(dist[wk], chg)\n",
    "        end\n",
    "        for i in length(dist[wk])+1:8\n",
    "            push!(dist[wk], 0.0)\n",
    "        end\n",
    "    end\n",
    "    dist\n",
    "    function simulate(dist)\n",
    "        y = zeros(52)\n",
    "        for i in 2:52\n",
    "            y[i] = y[i-1] + rand(dist[i])\n",
    "        end\n",
    "        y\n",
    "    end\n",
    "    plotsimulation!(dist; color=\"gray\", alpha=0.5, w=1) = plot!(1:52, 6+simulate(dist),c=color,alpha=alpha, w=w)\n",
    "    r = rand(1:1000)\n",
    "    @show r\n",
    "    srand(845)\n",
    "    plot(size=(750,500), left_margin=10mm, bottom_margin=10mm, top_margin=5mm)\n",
    "    for i in 1:50\n",
    "        plotsimulation!(dist)\n",
    "    end\n",
    "    plotsimulation!(dist, color=\"red\", alpha=1, w=2)\n",
    "    plot!(title=\"(b)\")\n",
    "    plt1 = plot!(ylabel=\"Forecast end-of-season milk price\\n(\\$/kg)\", xlabel=\"Week of Year\\n\",legend=false, ylims=(3, 9))\n",
    "#     savefig(\"modelone.pdf\")\n",
    "    \n",
    "    forecasts = getdata(\"fonterra_forecasts.csv\", :Date)\n",
    "    plot(size=(750,500), left_margin=10mm, bottom_margin=10mm, right_margin=10mm, top_margin=5mm)\n",
    "    plot!(forecasts, :Date, :Forecast, group=:Season, linetype=:step, w=2, c=\"#00467F\")\n",
    "    plot!(ylabel=\"Forecast end-of-season milk price\\n(\\$/kg)\", xlabel=\"Date of forecast\\n\", ylims=(3, 9))\n",
    "    function annotateplot!(date, value)\n",
    "        x = Int(Dates.value(date))\n",
    "        yr = Dates.value(Dates.Year(date))\n",
    "        annotate!([(x+250, value, \"$(rpad(value, 4, \"0\"))\")])\n",
    "        scatter!([date], [value], c=\"#00467F\")\n",
    "    end\n",
    "    by(forecasts, :Season) do d\n",
    "        annotateplot!(d[:Date][end], d[:Forecast][end])\n",
    "    end\n",
    "    plot!(title=\"(a)\", xticks=(Dates.Date.(2010:2:2017, 1,1), 2010:2:2017))\n",
    "    plt2 = plot!(legend=false)\n",
    "#     savefig(\"forecasts.pdf\")\n",
    "    plt3 = plot(plt2, plt1, layout=(1,2), size=(1000,375))\n",
    "    savefig(\"modeloneprices.pdf\")\n",
    "    println(\"E[x] = $(mean(vcat(dist...)))\")\n",
    "    \n",
    "    function discretedistribution(x)\n",
    "        observations = unique(x) \n",
    "        probabilities = [sum(x .== o) / length(x) for o in observations]\n",
    "        observations, probabilities\n",
    "    end\n",
    "    open(\"model_one_observations.json\", \"w\") do io\n",
    "        write(io, JSON.json([round.(discretedistribution(d)[1], 2) for d in dist]))\n",
    "    end\n",
    "    open(\"model_one_probabilities.json\", \"w\") do io\n",
    "        write(io, JSON.json([discretedistribution(d)[2] for d in dist]))\n",
    "    end\n",
    "    open(\"model_one_futures.json\", \"w\") do io\n",
    "        μ = mean.(dist)\n",
    "        write(io, JSON.json([sum(μ[i:end]) for i in 2:52]))\n",
    "    end\n",
    "    \n",
    "    () -> 6.0 + simulate(dist), dist\n",
    "end\n",
    "model1, dist = generatemodel1()"
   ]
  },
  {
   "cell_type": "code",
   "execution_count": 209,
   "metadata": {},
   "outputs": [
    {
     "name": "stdout",
     "output_type": "stream",
     "text": [
      "DataFrames.DataFrameRegressionModel{GLM.LinearModel{GLM.LmResp{Array{Float64,1}},GLM.DensePredChol{Float64,Base.LinAlg.Cholesky{Float64,Array{Float64,2}}}},Array{Float64,2}}\n",
      "\n",
      "Formula: y ~ 1 + x1\n",
      "\n",
      "Coefficients:\n",
      "             Estimate Std.Error t value Pr(>|t|)\n",
      "(Intercept)  0.142664  0.109892 1.29822   0.1959\n",
      "x1            0.97658 0.0165368 59.0551   <1e-99\n",
      "\n",
      "seed = 103\n"
     ]
    },
    {
     "name": "stderr",
     "output_type": "stream",
     "text": [
      "\u001b[1m\u001b[33mWARNING: \u001b[39m\u001b[22m\u001b[33mccdf(d::UnivariateDistribution, X::AbstractArray) is deprecated, use ccdf.(d, X) instead.\u001b[39m\n",
      "Stacktrace:\n",
      " [1] \u001b[1mdepwarn\u001b[22m\u001b[22m\u001b[1m(\u001b[22m\u001b[22m::String, ::Symbol\u001b[1m)\u001b[22m\u001b[22m at \u001b[1m.\\deprecated.jl:70\u001b[22m\u001b[22m\n",
      " [2] \u001b[1mccdf\u001b[22m\u001b[22m\u001b[1m(\u001b[22m\u001b[22m::Distributions.FDist{Float64}, ::Array{Float64,1}\u001b[1m)\u001b[22m\u001b[22m at \u001b[1m.\\deprecated.jl:57\u001b[22m\u001b[22m\n",
      " [3] \u001b[1mcoeftable\u001b[22m\u001b[22m\u001b[1m(\u001b[22m\u001b[22m::GLM.LinearModel{GLM.LmResp{Array{Float64,1}},GLM.DensePredChol{Float64,Base.LinAlg.Cholesky{Float64,Array{Float64,2}}}}\u001b[1m)\u001b[22m\u001b[22m at \u001b[1mC:\\Users\\odow003\\.julia\\v0.6\\GLM\\src\\lm.jl:154\u001b[22m\u001b[22m\n",
      " [4] \u001b[1mcoeftable\u001b[22m\u001b[22m\u001b[1m(\u001b[22m\u001b[22m::DataFrames.DataFrameRegressionModel{GLM.LinearModel{GLM.LmResp{Array{Float64,1}},GLM.DensePredChol{Float64,Base.LinAlg.Cholesky{Float64,Array{Float64,2}}}},Array{Float64,2}}\u001b[1m)\u001b[22m\u001b[22m at \u001b[1mC:\\Users\\odow003\\.julia\\v0.6\\DataFrames\\src\\statsmodels\\statsmodel.jl:93\u001b[22m\u001b[22m\n",
      " [5] \u001b[1mshow\u001b[22m\u001b[22m\u001b[1m(\u001b[22m\u001b[22m::Base.PipeEndpoint, ::DataFrames.DataFrameRegressionModel{GLM.LinearModel{GLM.LmResp{Array{Float64,1}},GLM.DensePredChol{Float64,Base.LinAlg.Cholesky{Float64,Array{Float64,2}}}},Array{Float64,2}}\u001b[1m)\u001b[22m\u001b[22m at \u001b[1mC:\\Users\\odow003\\.julia\\v0.6\\DataFrames\\src\\statsmodels\\statsmodel.jl:104\u001b[22m\u001b[22m\n",
      " [6] \u001b[1mprint\u001b[22m\u001b[22m\u001b[1m(\u001b[22m\u001b[22m::Base.PipeEndpoint, ::DataFrames.DataFrameRegressionModel{GLM.LinearModel{GLM.LmResp{Array{Float64,1}},GLM.DensePredChol{Float64,Base.LinAlg.Cholesky{Float64,Array{Float64,2}}}},Array{Float64,2}}\u001b[1m)\u001b[22m\u001b[22m at \u001b[1m.\\strings\\io.jl:29\u001b[22m\u001b[22m\n",
      " [7] \u001b[1mprint\u001b[22m\u001b[22m\u001b[1m(\u001b[22m\u001b[22m::Base.PipeEndpoint, ::DataFrames.DataFrameRegressionModel{GLM.LinearModel{GLM.LmResp{Array{Float64,1}},GLM.DensePredChol{Float64,Base.LinAlg.Cholesky{Float64,Array{Float64,2}}}},Array{Float64,2}}, ::Char, ::Vararg{Char,N} where N\u001b[1m)\u001b[22m\u001b[22m at \u001b[1m.\\strings\\io.jl:40\u001b[22m\u001b[22m\n",
      " [8] \u001b[1mgeneratemodel2\u001b[22m\u001b[22m\u001b[1m(\u001b[22m\u001b[22m\u001b[1m)\u001b[22m\u001b[22m at \u001b[1m.\\In[209]:15\u001b[22m\u001b[22m\n",
      " [9] \u001b[1minclude_string\u001b[22m\u001b[22m\u001b[1m(\u001b[22m\u001b[22m::String, ::String\u001b[1m)\u001b[22m\u001b[22m at \u001b[1m.\\loading.jl:515\u001b[22m\u001b[22m\n",
      " [10] \u001b[1minclude_string\u001b[22m\u001b[22m\u001b[1m(\u001b[22m\u001b[22m::Module, ::String, ::String\u001b[1m)\u001b[22m\u001b[22m at \u001b[1mC:\\Users\\odow003\\.julia\\v0.6\\Compat\\src\\Compat.jl:478\u001b[22m\u001b[22m\n",
      " [11] \u001b[1mexecute_request\u001b[22m\u001b[22m\u001b[1m(\u001b[22m\u001b[22m::ZMQ.Socket, ::IJulia.Msg\u001b[1m)\u001b[22m\u001b[22m at \u001b[1mC:\\Users\\odow003\\.julia\\v0.6\\IJulia\\src\\execute_request.jl:154\u001b[22m\u001b[22m\n",
      " [12] \u001b[1meventloop\u001b[22m\u001b[22m\u001b[1m(\u001b[22m\u001b[22m::ZMQ.Socket\u001b[1m)\u001b[22m\u001b[22m at \u001b[1mC:\\Users\\odow003\\.julia\\v0.6\\IJulia\\src\\eventloop.jl:8\u001b[22m\u001b[22m\n",
      " [13] \u001b[1m(::IJulia.##14#17)\u001b[22m\u001b[22m\u001b[1m(\u001b[22m\u001b[22m\u001b[1m)\u001b[22m\u001b[22m at \u001b[1m.\\task.jl:335\u001b[22m\u001b[22m\n",
      "while loading In[209], in expression starting on line 74\n"
     ]
    }
   ],
   "source": [
    "function generatemodel2()\n",
    "    spot = getspotprice()\n",
    "    spot[:nzd] = spot[:spot] ./ 0.75 / 1000 - 2.10\n",
    "    model = fit(LinearModel, @formula(y~x1), DataFrame(\n",
    "                    y  = (spot[:nzd][3:end]),\n",
    "                    x1 = (spot[:nzd][2:end-1]),\n",
    "                )\n",
    "            )\n",
    "#  model = fit(LinearModel, @formula(y~0+x1), DataFrame(\n",
    "#         y  = (spot[:nzd][3:end] - mean(spot[:nzd])),\n",
    "#                 x1 = (spot[:nzd][2:end-1] - mean(spot[:nzd])),\n",
    "#             )\n",
    "#         )\n",
    "\n",
    "    println(model)\n",
    "    open(\"model_two_errors.json\", \"w\") do io\n",
    "        N = 10\n",
    "        resid = GLM.residuals(model)\n",
    "        sort!(resid)\n",
    "        nperblock = length(resid) / N\n",
    "        q = [mean(resid[round(Int, nperblock * (i-1) + 1):round(Int,nperblock * i)]) for i in 1:N]\n",
    "        q -= mean(q)\n",
    "        write(io, JSON.json(q))\n",
    "    end\n",
    "    \n",
    "    function estimate(model, x, idx)\n",
    "        λ, μ = 0.96, 6.3\n",
    "        λ * x[idx] + (1-λ) * μ\n",
    "#         dot(coef(model), vcat(1, x[idx:-1:(idx - length(coef(model))+2)]))\n",
    "#         dot(coef(model), x[idx:idx])\n",
    "    end\n",
    "\n",
    "    function simulate!(spot, x0, model, N, resid, islog=true)\n",
    "        zz = zeros(N)    \n",
    "        if islog\n",
    "            zz[1:length(x0)] .= log.(x0)\n",
    "        else\n",
    "            zz[1:length(x0)] .= x0\n",
    "        end\n",
    "        for i in (length(x0)+1):N\n",
    "            zz[i] = estimate(model, zz, i-1) + rand(resid)#GLM.residuals(model))\n",
    "        end\n",
    "        if islog\n",
    "            zz .= exp.(zz)\n",
    "        end\n",
    "        \n",
    "        zz\n",
    "    end\n",
    "    function plottrace!(spot, x0, model, N, resid, islog=true)\n",
    "        zz = simulate!(spot, x0, model, N, resid, islog)\n",
    "        plot!(spot[:Date], zz, linealpha=0.2, color=\"gray\")\n",
    "        zz\n",
    "    end\n",
    "\n",
    "    plot(size=(750,500), left_margin=5mm, bottom_margin=10mm)\n",
    "    plot!(spot, :Date, :nzd, legend=false, linetype=:step, w=2, color=\"#00467F\")\n",
    "    plot!(ylims=(0, 12), xlabel=\"Date of Global Dairy Trade Auction\\n\", ylabel=\"Spot Price\\n(\\$/kg)\")\n",
    "    hline!([mean(spot[:nzd])], linestyle=:dash, w=2, color=\"#e65100\")\n",
    "\n",
    "    seed = rand(1:1000)\n",
    "    @show seed\n",
    "    srand(seed)\n",
    "    srand(416)\n",
    "    resid = JSON.parsefile(\"model_two_errors.json\")\n",
    "    for i in 1:100\n",
    "        plottrace!(spot, [6.3], model, size(spot, 1), resid, false)\n",
    "    end\n",
    "    zz = plottrace!(spot, [6.3], model, size(spot, 1), resid, false)\n",
    "    plot!(spot[:Date], zz, linealpha=1, color=\"red\", linetype=:step)\n",
    "    plt = plot!(legend=false, ylims=(0, 12))\n",
    "    savefig(\"spotprice.pdf\")\n",
    "    () -> simulate!(spot, [6.0], model, 52, false)\n",
    "end\n",
    "model2 = generatemodel2();"
   ]
  },
  {
   "cell_type": "code",
   "execution_count": 233,
   "metadata": {},
   "outputs": [
    {
     "data": {
      "text/plain": [
       "68"
      ]
     },
     "execution_count": 233,
     "metadata": {},
     "output_type": "execute_result"
    }
   ],
   "source": [
    "d = Dates.Date(2018,8,7)\n",
    "auction_weeks = Int[]\n",
    "auction_dates = Date[]\n",
    "current_month = 7\n",
    "number_of_auctions = 0\n",
    "weeks_since_auction = 0\n",
    "for t in 1:52\n",
    "    if Dates.month(d) == current_month\n",
    "        if number_of_auctions < 2 && weeks_since_auction >= 1\n",
    "            # second auction\n",
    "            push!(auction_weeks, t)\n",
    "            push!(auction_dates, d)\n",
    "            number_of_auctions += 1\n",
    "        else\n",
    "            weeks_since_auction += 1\n",
    "        end\n",
    "    else\n",
    "        # first auction of month\n",
    "        current_month = Dates.month(d)\n",
    "        number_of_auctions = 1\n",
    "        weeks_since_auction = 0\n",
    "        push!(auction_weeks, t)\n",
    "        push!(auction_dates, d)\n",
    "    end\n",
    "    d += Dates.Week(1)\n",
    "end\n",
    "open(\"auction_weeks.json\", \"w\") do io\n",
    "    write(io, JSON.json(auction_weeks))\n",
    "end\n",
    "# auction_dates"
   ]
  },
  {
   "cell_type": "code",
   "execution_count": 244,
   "metadata": {},
   "outputs": [
    {
     "data": {
      "text/plain": [
       "216"
      ]
     },
     "execution_count": 244,
     "metadata": {},
     "output_type": "execute_result"
    }
   ],
   "source": [
    "w = JSON.parsefile(\"salescurve.json\")\n",
    "ww = vcat([sum(w[auction_weeks[t]:auction_weeks[t+1]-1]) for t in 1:23], sum(w[auction_weeks[end]:end]))\n",
    "open(\"sales_curve.json\", \"w\") do io\n",
    "    write(io, JSON.json(ww))\n",
    "end\n"
   ]
  },
  {
   "cell_type": "code",
   "execution_count": null,
   "metadata": {
    "collapsed": true
   },
   "outputs": [],
   "source": [
    "model_one_distribution = [model1()[end] for i in 1:1000]\n",
    "model_two_distribution = [dot(model2(), get_sales_curve()) for i in 1:1000]\n",
    "plot(size=(750,500), left_margin=10mm, bottom_margin=10mm, top_margin=5mm)\n",
    "density!(model_one_distribution, label=\"Model One\", w=3, color=\"#00467F\", alpha=1, fillalpha=0.75)\n",
    "density!(model_two_distribution, label=\"Model Two\", w=3, linestyle=:dot, c=\"#e65100\", fillalpha=0.75, alpha=1)\n",
    "density!([6.1, 7.6, 6.08, 5.84, 8.40, 4.40, 3.90, 6.13], label=\"Actual\", w=2,c=\"black\")\n",
    "plt2 = plot!(xlabel=\"End-of-season milk price \\$/kg\\n\", ylabel=\"\", yticks=false)\n",
    "savefig(\"model_distributions.pdf\")"
   ]
  }
 ],
 "metadata": {
  "kernelspec": {
   "display_name": "Julia 0.6.0",
   "language": "julia",
   "name": "julia-0.6"
  },
  "language_info": {
   "file_extension": ".jl",
   "mimetype": "application/julia",
   "name": "julia",
   "version": "0.6.0"
  }
 },
 "nbformat": 4,
 "nbformat_minor": 2
}
