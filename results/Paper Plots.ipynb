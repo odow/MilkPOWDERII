{
 "cells": [
  {
   "cell_type": "code",
   "execution_count": 1,
   "metadata": {},
   "outputs": [
    {
     "data": {
      "text/plain": [
       "Plots.GRBackend()"
      ]
     },
     "execution_count": 1,
     "metadata": {},
     "output_type": "execute_result"
    }
   ],
   "source": [
    "using JSON, SDDP,DataFrames\n",
    "using Plots, StatPlots\n",
    "const mm = Plots.mm\n",
    "const pt = Plots.pt\n",
    "fntsm = Plots.font(\"times\", 10.0pt)\n",
    "fntlg = Plots.font(\"times\", 12.0pt)\n",
    "default(titlefont=fntlg, guidefont=fntlg, tickfont=fntsm, legendfont=fntsm,left_margin=10mm,bottom_margin=7.5mm)\n",
    "default(size=(800,600),top_margin=0mm, right_margin=0mm)\n",
    "gr()"
   ]
  },
  {
   "cell_type": "code",
   "execution_count": 39,
   "metadata": {},
   "outputs": [
    {
     "data": {
      "text/plain": [
       "plotdensity! (generic function with 4 methods)"
      ]
     },
     "execution_count": 39,
     "metadata": {},
     "output_type": "execute_result"
    }
   ],
   "source": [
    "# Plot main figure\n",
    "function getresults(results, key, scalefactor=1.0)\n",
    "    Q = [0.01, 0.1, 0.5, 0.9, 0.99, 0.01, 0.99]\n",
    "    g2 = hcat([scalefactor*r[key] for r in results]...)\n",
    "    g3 = hcat([quantile(g2[g,:], Q) for g in 1:size(g2, 1)]...)'\n",
    "    DataFrame(week=1:size(g3, 1), x10=g3[:,1], x25=g3[:,2], x50=g3[:,3], x75=g3[:,4], x90=g3[:,5],x05=g3[:,6],x95=g3[:,7])\n",
    "end\n",
    "function plotpowder(data, key, ylims, ylabel,title,scalefactor=1.0;plotline::Int=0)\n",
    "    blue = getresults(data, key, scalefactor)\n",
    "    plot()\n",
    "    plot!(blue, :week, :x10, fill=(:x90, \"#00467F\"), c=\"#00467F\", fillalpha=0.3, alpha=0)\n",
    "    plot!(blue, :week, :x25, fill=(:x75, \"#00467F\"), c=\"#00467F\", fillalpha=0.3, alpha=0)   \n",
    "    plot!(blue, :week, :x50, c=\"#00467F\", w=2)\n",
    "    if plotline > 0\n",
    "        plot!(scalefactor*data[plotline][key], c=\"red\", w=3)\n",
    "    end\n",
    "    xticks = collect(1:8.66:52)\n",
    "    xticklabels = [\"Aug\", \"Oct\", \"Dec\", \"Feb\", \"Apr\", \"Jun\"]\n",
    "    plot!(legend=false, ylims=ylims, ylabel=ylabel,title=title, xlims=(1,52), xticks=(xticks, xticklabels), xlabel=\"\")\n",
    "    plot!(size=(500,300))\n",
    "end\n",
    "\n",
    "function plotall(data; plotprice=false,plotline=0)\n",
    "    for d in data\n",
    "        d[:contracted_proportion] = fill(0.0, 52)\n",
    "        d[:milk_production] = fill(0.0, 52)\n",
    "        d[:milk_sold] = fill(0.0, 52)\n",
    "        for t in 1:52\n",
    "            d[:milk_production][t] = sum(d[:milk][1:t]) \n",
    "            d[:milk_sold][t] = sum(d[:milk_sales][1:t]) \n",
    "            d[:contracted_proportion][t] = d[:milk_sold][t] ./ sum(d[:milk])\n",
    "        end\n",
    "    end\n",
    "    if !plotprice\n",
    "        plot(\n",
    "            plotpowder(data, :C, (0, 3), \"Cows Milking\\n(Cows/Ha)\", \"(a)\",plotline=plotline),\n",
    "            plotpowder(data, :P, (0,3500), \"Pasture Cover\\n(kg/Ha)\",\"(b)\",plotline=plotline),\n",
    "            plotpowder(data, :b, (0,6), \"Palm Kernel Fed\\n(kg/Cow/Day)\", \"(c)\", 1 / 3 / 7,plotline=plotline),\n",
    "            plotpowder(data, :milk_production, (0,2000), \"Milk Production\\n(kg)\", \"(d)\",plotline=plotline),\n",
    "            plotpowder(data, :milk_sold, (0,2000), \"Milk Sales\\n(kg)\", \"(e)\",plotline=plotline),\n",
    "            plotpowder(data, :contracted_proportion, (0, 1.25), \"Proportion of Milk Contracted\\n(fraction)\", \"(f)\", plotline=plotline),\n",
    "            layout=(2,3), size=(1500,600)\n",
    "        )\n",
    "    else\n",
    "        parameters = JSON.parsefile(\"model.parameters.json\")\n",
    "        function futures_contribution(gt, w, auction)\n",
    "            y = 0.0\n",
    "            for i in (auction+1):length(w)\n",
    "                y += w[i] * (0.96 ^ (i - auction) * gt + 0.252 * sum(0.96^(j-1) for j in 1:(i-auction)))\n",
    "            end\n",
    "            y\n",
    "        end\n",
    "        for n in data\n",
    "            n[:gdt] = [p[1] for p in n[:price]]\n",
    "            n[:accumulated] = [p[2] for p in n[:price]]\n",
    "            n[:futures] = zeros(Float64, 52)\n",
    "            for stage in 1:52\n",
    "                auction = findlast(x->x<=stage, parameters[\"auction_weeks\"])\n",
    "                n[:futures][stage] = n[:accumulated][stage] + futures_contribution(n[:gdt][stage], parameters[\"sales_curve\"], auction)\n",
    "            end\n",
    "        end\n",
    "        plot(\n",
    "            plotpowder(data, :C, (0, 3), \"Cows Milking\\n(Cows/Ha)\", \"(a)\",plotline=plotline),\n",
    "            plotpowder(data, :P, (0,3500), \"Pasture Cover\\n(kg/Ha)\",\"(b)\",plotline=plotline),\n",
    "            plotpowder(data, :b, (0,6), \"Palm Kernel Fed\\n(kg/Cow/Day)\", \"(c)\", 1 / 3 / 7,plotline=plotline),\n",
    "            plotpowder(data, :milk_production, (0,2000), \"Milk Production\\n(kg)\", \"(d)\",plotline=plotline),\n",
    "            plotpowder(data, :milk_sold, (0,2000), \"Milk Sales\\n(kg)\", \"(e)\",plotline=plotline),\n",
    "            plotpowder(data, :contracted_proportion, (0, 1.25), \"Proportion of Milk Contracted\\n(fraction)\", \"(f)\", plotline=plotline),\n",
    "            plotpowder(data, :gdt, (0, 10), \"Spot Price\\n(\\$/kg)\", \"(h)\",plotline=plotline),\n",
    "            plotpowder(data, :accumulated, (0, 10), \"Accumulated Price\\n(\\$/kg)\", \"(h)\",plotline=plotline),\n",
    "            plotpowder(data, :futures, (0, 10), \"Futures Price\\n(\\$/kg)\", \"(i)\",plotline=plotline),\n",
    "            layout=(3,3), size=(1500,900)\n",
    "        )\n",
    "    end\n",
    "end\n",
    "\n",
    "function plotdensity!(data, label, color, w=1, a=1.0, densityflag=true)\n",
    "    x = [sim[:objective] - 3536 for sim in data]\n",
    "    if densityflag\n",
    "        density!(x, label=label, c=color, w=w, alpha=a)\n",
    "    else\n",
    "        vline!([mean(x)], label=\"\", c=color, w=w, alpha=a, linestyle=:dash)\n",
    "    end\n",
    "end"
   ]
  },
  {
   "cell_type": "code",
   "execution_count": 81,
   "metadata": {},
   "outputs": [
    {
     "name": "stdout",
     "output_type": "stream",
     "text": [
      "Neutral\n",
      "Averse\n",
      "Selling\n",
      "High\n"
     ]
    },
    {
     "ename": "LoadError",
     "evalue": "\u001b[91mBoundsError\u001b[39m",
     "output_type": "error",
     "traceback": [
      "\u001b[91mBoundsError\u001b[39m",
      "",
      "Stacktrace:",
      " [1] \u001b[1mgetindex\u001b[22m\u001b[22m\u001b[1m(\u001b[22m\u001b[22m::Float64, ::Int64\u001b[1m)\u001b[22m\u001b[22m at \u001b[1m.\\number.jl:38\u001b[22m\u001b[22m",
      " [2] \u001b[1mcollect\u001b[22m\u001b[22m\u001b[1m(\u001b[22m\u001b[22m::Base.Generator{Array{Any,1},##102#107}\u001b[1m)\u001b[22m\u001b[22m at \u001b[1m.\\array.jl:441\u001b[22m\u001b[22m",
      " [3] \u001b[1mplotall\u001b[22m\u001b[22m\u001b[1m(\u001b[22m\u001b[22m::Array{Dict{Symbol,Any},1}, ::Bool, ::Int64\u001b[1m)\u001b[22m\u001b[22m at \u001b[1m.\\In[25]:59\u001b[22m\u001b[22m",
      " [4] \u001b[1mplotall\u001b[22m\u001b[22m\u001b[1m(\u001b[22m\u001b[22m::Array{Dict{Symbol,Any},1}, ::Bool\u001b[1m)\u001b[22m\u001b[22m at \u001b[1m.\\In[25]:28\u001b[22m\u001b[22m",
      " [5] \u001b[1minclude_string\u001b[22m\u001b[22m\u001b[1m(\u001b[22m\u001b[22m::String, ::String\u001b[1m)\u001b[22m\u001b[22m at \u001b[1m.\\loading.jl:515\u001b[22m\u001b[22m"
     ]
    }
   ],
   "source": [
    "neutral = SDDP.load(\"NeutralWithContracting.results\")[1:2000];\n",
    "params = JSON.parsefile(\"neutral_with_contracting.json\")\n",
    "\n",
    "for n in neutral\n",
    "    n[:rainfall] = [params[\"niwa_data\"][t][n[:noise][t]][\"rainfall\"] for t in 1:52]\n",
    "    n[:evapotranspiration] = [params[\"niwa_data\"][t][n[:noise][t]][\"evapotranspiration\"] for t in 1:52]\n",
    "end\n",
    "plot(\n",
    "plotpowder(neutral, :price, (2, 10), \"Milk Price Price\\n(\\$/kg)\", \"(a)\"),\n",
    "plotpowder(neutral, :evapotranspiration, (0, 50), \"Evapotranspiration\\n(mm/Week)\", \"(b)\"),\n",
    "plotpowder(neutral, :rainfall, (0, 300), \"Rainfall\\n(mm/Week)\", \"(c)\"),\n",
    "    layout=(1,3), size=(1500,300)\n",
    ")\n",
    "savefig(\"price.pdf\")\n",
    "\n",
    "println(\"Neutral\")\n",
    "plotall(neutral)\n",
    "savefig(\"neutral_no_selling.pdf\")\n",
    "\n",
    "println(\"Averse\")\n",
    "averse = SDDP.load(\"AverseNoContracting.results\")[1:2000];\n",
    "plotall(averse)\n",
    "savefig(\"averse_no_selling.pdf\")\n",
    "\n",
    "println(\"Selling\")\n",
    "averse_sell = SDDP.load(\"AverseWithContracting.results\")[1:2000];\n",
    "plotall(averse_sell)\n",
    "savefig(\"averse_selling.pdf\")\n",
    "\n",
    "println(\"High\")\n",
    "high_averse_sell = SDDP.load(\"HighAverseWithContracting.results\")[1:2000];\n",
    "plotall(high_averse_sell)\n",
    "savefig(\"high_averse_selling.pdf\")"
   ]
  },
  {
   "cell_type": "code",
   "execution_count": 77,
   "metadata": {
    "collapsed": true
   },
   "outputs": [],
   "source": [
    "low_averse_sell = SDDP.load(\"LowAverseWithContracting.results\")[1:2000];\n",
    "plotall(low_averse_sell)\n",
    "savefig(\"low_averse_selling.pdf\")"
   ]
  },
  {
   "cell_type": "code",
   "execution_count": 140,
   "metadata": {
    "collapsed": true
   },
   "outputs": [],
   "source": [
    "neutral = SDDP.load(\"NeutralWithContracting.results\");\n",
    "averse = SDDP.load(\"AverseNoContracting.results\");\n",
    "low_averse_sell = SDDP.load(\"LowAverseWithContracting.results\");\n",
    "averse_sell = SDDP.load(\"AverseWithContracting.results\");\n",
    "high_averse_sell = SDDP.load(\"HighAverseWithContracting.results\");"
   ]
  },
  {
   "cell_type": "code",
   "execution_count": 150,
   "metadata": {},
   "outputs": [],
   "source": [
    "N = 2000\n",
    "scale = 1.5\n",
    "plot(\n",
    "    title=\"Distribution in Operating Profit.\\nAV@R fraction = 25\\%\",\n",
    "    xlabel=\"Operating Profit (\\$/Ha)\\n\",\n",
    "    ylabel=\"Smoothed Density\",\n",
    "    ytick=false,\n",
    "    top_margin=10mm, right_margin=5mm, bottom_margin=10mm, \n",
    "    size=(scale*500,scale*300),\n",
    "    legend=:topright, \n",
    "#     xlims=(-4000, 12000),\n",
    "    grid=false\n",
    ")\n",
    "\n",
    "for (data, key, colour, alpha) in [\n",
    "#         (neutral, \"Risk-Neutral\", \"#00467F\", 0.5),\n",
    "#         (averse[1:N], \"Medium-Risk\", \"#00467F\", 1.0),\n",
    "        (low_averse_sell, \"Low Risk Averse\", \"red\", 0.4),\n",
    "        (averse_sell, \"Medium Risk Averse\", \"red\", 0.7),\n",
    "        (high_averse_sell, \"High Risk Averse\", \"red\", 1.0),\n",
    "        \n",
    "        (low_averse_sell[1:N], \"Low Risk Averse\", \"green\", 0.4),\n",
    "        (averse_sell[1:N], \"Medium Risk Averse\", \"green\", 0.7),\n",
    "        (high_averse_sell[1:N], \"High Risk Averse\", \"green\", 1.0)\n",
    "    ]\n",
    "    plotdensity!(data, key, colour,3, alpha, true)\n",
    "    plotdensity!(data, \"\", colour,3, alpha, false)\n",
    "    plot!(legend=false)\n",
    "end\n",
    "\n",
    "savefig(\"density_comparison.pdf\")"
   ]
  },
  {
   "cell_type": "code",
   "execution_count": 35,
   "metadata": {},
   "outputs": [],
   "source": [
    "averse_2 = SDDP.load(\"AverseWithContracting2.results\")[1:1000];\n",
    "plotall(averse_2)\n",
    "savefig(\"averse_2.pdf\")"
   ]
  },
  {
   "cell_type": "code",
   "execution_count": 72,
   "metadata": {},
   "outputs": [
    {
     "data": {
      "text/plain": [
       "5-element Array{Float64,1}:\n",
       " 3.50619\n",
       " 5.52861\n",
       " 6.12845\n",
       " 6.70705\n",
       " 9.23457"
      ]
     },
     "execution_count": 72,
     "metadata": {},
     "output_type": "execute_result"
    }
   ],
   "source": [
    "\n",
    "# neutral = SDDP.load(\"NeutralWithContracting.results\")[1:2000];\n",
    "# quantile([n[:price][end] for n in neutral], [0.0, 0.25, 0.5, 0.75, 1.0])\n",
    "quantile([n[:accumulated][end] for n in averse_2], [0.0, 0.25, 0.5, 0.75, 1.0])"
   ]
  },
  {
   "cell_type": "code",
   "execution_count": 36,
   "metadata": {
    "collapsed": true
   },
   "outputs": [],
   "source": [
    "averse_2 = SDDP.load(\"AverseWithContracting2.results\")[1:1000];\n",
    "parameters = JSON.parsefile(\"model.parameters.json\")\n",
    "function futures_contribution(gt, w, auction)\n",
    "    y = 0.0\n",
    "    for i in (auction+1):length(w)\n",
    "        y += w[i] * (0.96 ^ (i - auction) * gt + 0.252 * sum(0.96^(j-1) for j in 1:(i-auction)))\n",
    "    end\n",
    "    y\n",
    "end\n",
    "for n in averse_2\n",
    "    n[:gdt] = [p[1] for p in n[:price]]\n",
    "    n[:accumulated] = [p[2] for p in n[:price]]\n",
    "    n[:futures] = zeros(Float64, 52)\n",
    "    for stage in 1:52\n",
    "        auction = findlast(x->x<=stage, parameters[\"auction_weeks\"])\n",
    "        n[:futures][stage] = n[:accumulated][stage] + futures_contribution(n[:gdt][stage], parameters[\"sales_curve\"], auction)\n",
    "    end\n",
    "end\n",
    "plot(\n",
    "    plotpowder(averse_2, :gdt, (0, 10), \"Spot Price\\n(\\$/kg)\", \"(a)\",plotline=828),\n",
    "    plotpowder(averse_2, :accumulated, (0, 10), \"Accumulated Price\\n(\\$/kg)\", \"(b)\",plotline=828),\n",
    "    plotpowder(averse_2, :futures, (0, 10), \"Futures Price\\n(\\$/kg)\", \"(c)\",plotline=828),\n",
    "    layout=(1,3), size=(1500,300)\n",
    ")\n",
    "savefig(\"price_2.pdf\")"
   ]
  },
  {
   "cell_type": "code",
   "execution_count": 44,
   "metadata": {},
   "outputs": [],
   "source": [
    "plot()\n",
    "plotdensity!(averse_2, \"Risk-Averse\", \"#00467F\",3, 0.5, true)\n",
    "plotdensity!(averse_2, \"Risk-Averse\", \"#00467F\",3, 0.5, false)\n",
    "\n",
    "plot!(ytick=false, xlabel=\"Operating Profit (\\$/Ha)\\n\", ylabel=\"Smoothed Density\")\n",
    "plot!(size=(6 * 150,3 * 150), right_margin=5Plots.mm, bottom_margin=10Plots.mm, legend=:topright, xlims=(-4000, 12000),grid=false)\n",
    "savefig(\"density_comparison2.pdf\")"
   ]
  },
  {
   "cell_type": "code",
   "execution_count": 294,
   "metadata": {},
   "outputs": [
    {
     "data": {
      "text/plain": [
       "937771"
      ]
     },
     "execution_count": 294,
     "metadata": {},
     "output_type": "execute_result"
    }
   ],
   "source": [
    "open(\"price_simulations.json\", \"w\") do io\n",
    "    write(io, JSON.json([n[:futures] for n in averse_2]))\n",
    "end"
   ]
  },
  {
   "cell_type": "code",
   "execution_count": 131,
   "metadata": {},
   "outputs": [
    {
     "name": "stdout",
     "output_type": "stream",
     "text": [
      "avar(high_averse_sell, 0.25, 0.25) = 5054.012890974575\n",
      "avar(averse_sell, 0.25, 0.25) = 5590.091798142579\n",
      "avar(neutral, 0.25, 0.25) = 4776.544643164486\n",
      "avar(high_averse_sell, 0.5, 0.25) = 5214.534148254148\n",
      "avar(averse_sell, 0.5, 0.25) = 5734.717452305817\n",
      "avar(neutral, 0.5, 0.25) = 5231.0085967781015\n"
     ]
    },
    {
     "data": {
      "text/plain": [
       "5231.0085967781015"
      ]
     },
     "execution_count": 131,
     "metadata": {},
     "output_type": "execute_result"
    }
   ],
   "source": [
    "function cvar(x::Vector{Float64}, b::Float64)\n",
    "    mean(x[x .<= quantile(x, b)])\n",
    "end\n",
    "function cvar(x::Vector{Dict{Symbol, Any}},b)\n",
    "    cvar(Float64[s[:objective] for s in x], b)\n",
    "end\n",
    "function avar(x, λ, β)\n",
    "   λ * cvar(x, 1.0) + (1 - λ) * cvar(x, β) \n",
    "end\n",
    "@show avar(high_averse_sell, 0.25, 0.25)\n",
    "@show avar(averse_sell, 0.25, 0.25)\n",
    "@show avar(neutral, 0.25, 0.25)\n",
    "\n",
    "@show avar(high_averse_sell, 0.5, 0.25)\n",
    "@show avar(averse_sell, 0.5, 0.25)\n",
    "@show avar(neutral, 0.5, 0.25)"
   ]
  },
  {
   "cell_type": "code",
   "execution_count": 137,
   "metadata": {},
   "outputs": [
    {
     "data": {
      "text/plain": [
       "(2640, 2491, 2638, 2518, 2015)"
      ]
     },
     "execution_count": 137,
     "metadata": {},
     "output_type": "execute_result"
    }
   ],
   "source": [
    "function meanobj(data)\n",
    "    round(Int, median(Float64[s[:objective] for s in data])) - 3536\n",
    "#     round(Int, cvar(Float64[s[:objective] for s in data] - 3536, 0.0))\n",
    "end\n",
    "meanobj(neutral), meanobj(averse), meanobj(low_averse_sell), meanobj(averse_sell), meanobj(high_averse_sell)"
   ]
  },
  {
   "cell_type": "code",
   "execution_count": 59,
   "metadata": {},
   "outputs": [
    {
     "name": "stdout",
     "output_type": "stream",
     "text": [
      "getmean(neutral) = (2603.9365040053235, 1412.2885658140735)\n",
      "getmean(averse) = (2457.7203779547917, 1342.3236657111693)\n",
      "getmean(averse_sell) = (2487.9687606322977, 435.988355234436)\n",
      "getmean(high_averse_sell) = (1999.5766628132917, 490.2626396824679)\n"
     ]
    },
    {
     "data": {
      "text/plain": [
       "(1999.5766628132917, 490.2626396824679)"
      ]
     },
     "execution_count": 59,
     "metadata": {},
     "output_type": "execute_result"
    }
   ],
   "source": [
    "function getmean(data)\n",
    "    mean(sim[:objective] - 3536 for sim in data), std(sim[:objective] - 3536 for sim in data)\n",
    "end\n",
    "@show getmean(neutral)\n",
    "@show getmean(averse)\n",
    "@show getmean(averse_sell)\n",
    "@show getmean(high_averse_sell)"
   ]
  },
  {
   "cell_type": "code",
   "execution_count": 62,
   "metadata": {},
   "outputs": [
    {
     "data": {
      "text/plain": [
       "4×4 Array{Float64,2}:\n",
       " 1.0  19.0  -254034.0  112163.0\n",
       " 2.0  19.5  -258079.0  112163.0\n",
       " 3.0  19.5  -256570.0  112163.0\n",
       " 4.0  19.5  -256542.0  112163.0"
      ]
     },
     "execution_count": 62,
     "metadata": {},
     "output_type": "execute_result"
    }
   ],
   "source": [
    "function undoformatting(x)\n",
    "    if x[end] == 'K'\n",
    "        return 1_000.0 * parse(Float64, String(x[1:(end-1)]))\n",
    "    elseif x[end] == 'M'\n",
    "        return 1_000_000.0 * parse(Float64, String(x[1:(end-1)]))\n",
    "    else\n",
    "        return parse(Float64, x)\n",
    "    end \n",
    "end\n",
    "# iteration, time, simulation, bound\n",
    "function getlogdata(filename)\n",
    "    y = open(filename, \"r\") do io\n",
    "        y = Array{Float64}(0, 4)\n",
    "        for i in 1:14\n",
    "            readline(io)\n",
    "        end\n",
    "        while !eof(io)\n",
    "            line = readline(io)\n",
    "            if contains(line, \"--\")\n",
    "                break\n",
    "            end\n",
    "            items = split(strip(line))\n",
    "            if length(items) == 1\n",
    "                break\n",
    "            end\n",
    "            z = undoformatting.(items[[4,8,1,2]])'\n",
    "            y = vcat(y, z)\n",
    "        end\n",
    "        y\n",
    "    end\n",
    "\n",
    "    y[:, 1] = 1:size(y, 1)\n",
    "    y\n",
    "end\n",
    "\n",
    "r0 = getlogdata(\"AverseWithContracting.log\");\n",
    "r1 = getlogdata(\"NeutralWithContracting.log\");\n",
    "# r3 = getlogdata(\"AverseContractingRib3.log\")\n",
    "# r5 = getlogdata(\"AverseContractingRib5.log\")\n",
    "# r9 = getlogdata(\"AverseContractingRib9.log\");\n",
    "r1[1:4,:]"
   ]
  },
  {
   "cell_type": "code",
   "execution_count": 76,
   "metadata": {},
   "outputs": [
    {
     "data": {
      "text/plain": [
       "11×4 Array{Float64,2}:\n",
       " 790.0  214.2  3708.0  6363.0\n",
       " 791.0  216.3  5631.0  6363.0\n",
       " 792.0  217.3  2653.0  6344.0\n",
       " 793.0  217.6  3210.0  6319.0\n",
       " 794.0  217.7  5625.0  6319.0\n",
       " 795.0  218.0  5383.0  6319.0\n",
       " 796.0  218.4  5565.0  6319.0\n",
       " 797.0  218.5  4862.0  6319.0\n",
       " 798.0  218.9  7105.0  6319.0\n",
       " 799.0  219.4  5284.0  6311.0\n",
       " 800.0  219.5  4167.0  6311.0"
      ]
     },
     "execution_count": 76,
     "metadata": {},
     "output_type": "execute_result"
    }
   ],
   "source": [
    "# plot(r0[:,1], r0[:, 2])\n",
    "# plot(r1[:,1], r1[:, 4])\n",
    "r1[790:800, :]"
   ]
  },
  {
   "cell_type": "code",
   "execution_count": 70,
   "metadata": {
    "collapsed": true
   },
   "outputs": [],
   "source": [
    "N = 25\n",
    "plot()\n",
    "plot!(r3[1:N:size(r3, 1), 2], r3[1:N:size(r3, 1), 4], label=\"3 Ribs\", c=\"#00467F\", alpha=0.4, w=2)\n",
    "plot!(r5[1:N:size(r5, 1), 2], r5[1:N:size(r5, 1), 4], label=\"5 Ribs\", c=\"#00467F\", alpha=0.7, w=2)\n",
    "plot!(r9[1:N:size(r9, 1), 2], r9[1:N:size(r9, 1), 4], label=\"9 Ribs\", c=\"#00467F\", alpha=1.0, w=2)\n",
    "plot!(r0[1:N:size(r0, 1), 2], r0[1:N:size(r0, 1), 4], label=\"Dynamic\", c=\"#e65100\", linestyle=:dot, w=2)\n",
    "plot!(xlabel=\"Solution Time (s)\\n\", ylabel=\"Risk-adjusted Operating Profit\\nUpper Bound (\\$/Ha)\")\n",
    "plot!(xlims=(0, 21_600), ylims=(4000, 5000), size=(6*150, 3*150))\n",
    "savefig(\"performance_comparison.pdf\")"
   ]
  }
 ],
 "metadata": {
  "kernelspec": {
   "display_name": "Julia 0.6.0",
   "language": "julia",
   "name": "julia-0.6"
  },
  "language_info": {
   "file_extension": ".jl",
   "mimetype": "application/julia",
   "name": "julia",
   "version": "0.6.0"
  }
 },
 "nbformat": 4,
 "nbformat_minor": 2
}
